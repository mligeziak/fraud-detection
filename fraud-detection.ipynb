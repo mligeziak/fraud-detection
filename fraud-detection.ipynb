{
 "cells": [
  {
   "cell_type": "markdown",
   "metadata": {
    "_cell_guid": "101f8520-5bb6-3b60-185a-bf0071e0cf72"
   },
   "source": [
    "# Ładownie danych"
   ]
  },
  {
   "cell_type": "code",
   "execution_count": null,
   "metadata": {
    "_cell_guid": "c061fab3-72c4-4a1c-b40b-fddc79b1f415"
   },
   "outputs": [],
   "source": [
    "import numpy as np # linear algebra\n",
    "import pandas as pd # data processing\n",
    "import seaborn as sns # visualization library\n",
    "\n",
    "data = pd.read_csv(\"input/paysim.csv\")"
   ]
  },
  {
   "cell_type": "markdown",
   "metadata": {
    "_cell_guid": "0b5b396f-41fc-7f23-daa6-0ac36ed7d394"
   },
   "source": [
    "Podgląd kluku pierwszych wierszy oraz struktury danych"
   ]
  },
  {
   "cell_type": "code",
   "execution_count": null,
   "metadata": {
    "_cell_guid": "6d15ebd2-7778-3d67-604c-93c902596851"
   },
   "outputs": [],
   "source": [
    "data.head()"
   ]
  },
  {
   "cell_type": "code",
   "execution_count": null,
   "metadata": {
    "_cell_guid": "6736bbba-fbab-ceb1-c31c-96565635a2d0"
   },
   "outputs": [],
   "source": [
    "data.describe()"
   ]
  },
  {
   "cell_type": "markdown",
   "metadata": {
    "_cell_guid": "f6f61b5a-9673-c2b5-c08f-9a8007ef4c3b"
   },
   "source": [
    "Informacje o typie danych w poszczególnych kolumnach"
   ]
  },
  {
   "cell_type": "code",
   "execution_count": null,
   "metadata": {
    "_cell_guid": "9b1f75f5-638f-64c0-e947-a6f5eacef3fb",
    "scrolled": true
   },
   "outputs": [],
   "source": [
    "data.info()"
   ]
  },
  {
   "cell_type": "code",
   "execution_count": null,
   "metadata": {
    "_cell_guid": "22c58078-6a61-11cc-efc1-44809be614fa"
   },
   "outputs": [],
   "source": [
    "data['isFlaggedFraud'].sum()"
   ]
  },
  {
   "cell_type": "markdown",
   "metadata": {
    "_cell_guid": "a19f8554-0e20-4b35-276e-2c22aea81c26"
   },
   "source": [
    "W danych dostępna jest kolumna isFlaggedFraud, która jest oznaczana gdy przelew był na kwoty większe niż 200 000. Flaga ta została pominięta, ponieważ występuje ona tylko 16 razy w całym zbiorze danych. Pomijane są również kolumny nameOrig oraz nameDest."
   ]
  },
  {
   "cell_type": "code",
   "execution_count": null,
   "metadata": {
    "_cell_guid": "64a51a7c-8929-10e0-4f58-385d2e448c0f"
   },
   "outputs": [],
   "source": [
    "data.drop(['nameOrig','nameDest','isFlaggedFraud'], axis = 1, inplace=True)"
   ]
  },
  {
   "cell_type": "markdown",
   "metadata": {
    "_cell_guid": "f84ac06c-5467-43d6-0fb5-85c377d28840"
   },
   "source": [
    "Wizualizacja danych"
   ]
  },
  {
   "cell_type": "code",
   "execution_count": null,
   "metadata": {
    "_cell_guid": "b51b05b7-3ae0-f374-a7e8-6712cf54f647"
   },
   "outputs": [],
   "source": [
    "sns.countplot(data['type'], hue = data['isFraud'])"
   ]
  },
  {
   "cell_type": "markdown",
   "metadata": {
    "_cell_guid": "b67bada3-9c87-fc52-9d89-c80f152fcb1a"
   },
   "source": [
    "Można tutaj zauważyć, że oszustwa są tylko w typach TRANSFER oraz CASH_OUT."
   ]
  },
  {
   "cell_type": "code",
   "execution_count": null,
   "metadata": {
    "_cell_guid": "92419eea-139d-3c85-8871-1e6b04d93cae"
   },
   "outputs": [],
   "source": [
    "data[data['isFraud']==1].groupby('type').count()"
   ]
  },
  {
   "cell_type": "markdown",
   "metadata": {},
   "source": [
    "# Przygotowanie danych"
   ]
  },
  {
   "cell_type": "markdown",
   "metadata": {
    "_cell_guid": "aa1b6439-2a92-e4c9-6f24-7cffc2bf101d"
   },
   "source": [
    "Przed przystąpieniem do algorytmu powinniśmy znormalizować dane."
   ]
  },
  {
   "cell_type": "code",
   "execution_count": null,
   "metadata": {
    "_cell_guid": "29de8ed3-ea11-a417-093d-87cc04d0329b"
   },
   "outputs": [],
   "source": [
    "from sklearn.preprocessing import StandardScaler\n",
    "\n",
    "sc = StandardScaler()\n",
    "X_toScale = data[['amount', 'oldbalanceOrg', 'newbalanceOrig', 'oldbalanceDest', 'newbalanceDest']]\n",
    "new_X = sc.fit(X_toScale)\n",
    "X_scaled = new_X.transform(X_toScale)"
   ]
  },
  {
   "cell_type": "markdown",
   "metadata": {},
   "source": [
    "Tworzenie DataFrame ze znormalizowanych danych."
   ]
  },
  {
   "cell_type": "code",
   "execution_count": null,
   "metadata": {
    "_cell_guid": "451070fc-b171-802b-d5d6-46b3e8e9bb47"
   },
   "outputs": [],
   "source": [
    "scaled_df = pd.DataFrame(X_scaled, columns=['amount', 'oldbalanceOrg', 'newbalanceOrig', 'oldbalanceDest', 'newbalanceDest'])"
   ]
  },
  {
   "cell_type": "markdown",
   "metadata": {},
   "source": [
    "Pozostałą kolumnę 'type' przekształcamy na typ dummy oraz łączymy z finalnym DataFrame."
   ]
  },
  {
   "cell_type": "code",
   "execution_count": null,
   "metadata": {
    "_cell_guid": "22229660-c42d-9fcb-f798-d777e43cd19a"
   },
   "outputs": [],
   "source": [
    "dummy_df = pd.DataFrame(pd.get_dummies(data['type']))\n",
    "final_df = scaled_df.join(dummy_df, how = 'outer')"
   ]
  },
  {
   "cell_type": "markdown",
   "metadata": {},
   "source": [
    "Ostatecznie dane prezentują się następująco."
   ]
  },
  {
   "cell_type": "code",
   "execution_count": null,
   "metadata": {
    "_cell_guid": "591bc0c6-4e64-a408-335d-80e8be58dc80"
   },
   "outputs": [],
   "source": [
    "final_df.head(5)"
   ]
  },
  {
   "cell_type": "markdown",
   "metadata": {},
   "source": [
    "# Algorytm"
   ]
  },
  {
   "cell_type": "markdown",
   "metadata": {
    "_cell_guid": "666b3dfa-9ea2-1f8b-0aeb-4a7b7d3947b6"
   },
   "source": [
    "Po przygotowaniu danych możemy przystąpić do stworzenia modelu. Wkorzystamy model RandomForestClassifier ze 100 drzewami."
   ]
  },
  {
   "cell_type": "code",
   "execution_count": null,
   "metadata": {
    "_cell_guid": "b00eed17-73c7-6510-5df8-fa55095d530c"
   },
   "outputs": [],
   "source": [
    "from sklearn.ensemble import RandomForestClassifier\n",
    "\n",
    "rfc = RandomForestClassifier(n_estimators=100)"
   ]
  },
  {
   "cell_type": "markdown",
   "metadata": {},
   "source": [
    "Następnie dzielimy dane na próbę uczącą i trenującą."
   ]
  },
  {
   "cell_type": "code",
   "execution_count": null,
   "metadata": {},
   "outputs": [],
   "source": [
    "from sklearn.model_selection import train_test_split\n",
    "\n",
    "X = final_df\n",
    "y = data['isFraud']\n",
    "X_train, X_test, y_train, y_test = train_test_split(X, y, test_size=0.3, random_state=42)"
   ]
  },
  {
   "cell_type": "markdown",
   "metadata": {},
   "source": [
    "Ostatecznie przechodzimy do uczenia naszego modelu, przez podanie mu danych."
   ]
  },
  {
   "cell_type": "code",
   "execution_count": null,
   "metadata": {},
   "outputs": [],
   "source": [
    "model = rfc.fit(X_train,y_train)\n",
    "predictions = model.predict(X_test)"
   ]
  },
  {
   "cell_type": "markdown",
   "metadata": {
    "_cell_guid": "670710f1-c545-9a22-ba05-ae205981226e"
   },
   "source": [
    "# Wyniki"
   ]
  },
  {
   "cell_type": "code",
   "execution_count": null,
   "metadata": {
    "_cell_guid": "b856be10-be5f-34e7-c283-06a70b099a21"
   },
   "outputs": [],
   "source": [
    "from sklearn.metrics import classification_report, confusion_matrix\n",
    "\n",
    "print(classification_report(y_test,predictions))\n",
    "print(confusion_matrix(y_test, predictions))"
   ]
  },
  {
   "cell_type": "code",
   "execution_count": null,
   "metadata": {},
   "outputs": [],
   "source": []
  }
 ],
 "metadata": {
  "_change_revision": 0,
  "_is_fork": false,
  "kernelspec": {
   "display_name": "Python 3",
   "language": "python",
   "name": "python3"
  },
  "language_info": {
   "codemirror_mode": {
    "name": "ipython",
    "version": 3
   },
   "file_extension": ".py",
   "mimetype": "text/x-python",
   "name": "python",
   "nbconvert_exporter": "python",
   "pygments_lexer": "ipython3",
   "version": "3.7.1"
  }
 },
 "nbformat": 4,
 "nbformat_minor": 1
}
